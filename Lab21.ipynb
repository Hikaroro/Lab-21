{
 "cells": [
  {
   "cell_type": "markdown",
   "id": "c4f17df3-c002-452e-b133-e798e47026c6",
   "metadata": {
    "tags": []
   },
   "source": [
    "# Лабораторная работа 21"
   ]
  },
  {
   "cell_type": "markdown",
   "id": "22d6d8d6-d891-40f7-94f1-d9822fd16aa5",
   "metadata": {
    "tags": []
   },
   "source": [
    "## Цель лабораторной работы\n",
    "Определение баллистической постоянной зеркального баллистического гальванометра  и измерение емкости неизвестных конденсаторов"
   ]
  },
  {
   "cell_type": "markdown",
   "id": "d3cd719c-c528-4e91-8da5-99d19295ee85",
   "metadata": {
    "tags": []
   },
   "source": [
    "## Экспериментальное оборудование"
   ]
  },
  {
   "cell_type": "markdown",
   "id": "2d235dbc-7498-4235-823a-e0e5c120368e",
   "metadata": {},
   "source": [
    "1) баллистический гальванометр; \n",
    "2) эталонный конденсатор $C_{0}$; \n",
    "3) вольтметр \n",
    "4) коммутаторы и соединительные провода; \n",
    "5) конденсаторы неизвестной емкости $C_{1}$ и $C_{2}$."
   ]
  },
  {
   "cell_type": "markdown",
   "id": "16642545-10f9-43bf-8567-377a27d66c04",
   "metadata": {
    "tags": []
   },
   "source": [
    "## Конспект в формате ответов на контрольные вопросы"
   ]
  },
  {
   "cell_type": "markdown",
   "id": "36fe2467-40ee-48dc-a4b0-aad8300dd05f",
   "metadata": {},
   "source": [
    "### Что называется электрической емкостью уединённого проводника?"
   ]
  },
  {
   "cell_type": "markdown",
   "id": "62639287-c636-4f39-b926-5d95487f273f",
   "metadata": {},
   "source": [
    "Между зарядом на проводнике $Q$ и потенциалом $\\varphi$ его поверхности существует прямая пропорциональность $Q=C\\varphi$. Коэффициент пропорциональности $C$ называется электроемкость (емкость) уединенного проводника $C={Q\\over \\varphi}$"
   ]
  },
  {
   "cell_type": "markdown",
   "id": "de71a705-3b47-4463-ae72-1142527d8273",
   "metadata": {},
   "source": [
    "### Что называется конденсатором, электрической емкостью конденсатора?"
   ]
  },
  {
   "cell_type": "markdown",
   "id": "11c1f045-1bf6-46c6-b50a-500c243c8ae7",
   "metadata": {},
   "source": [
    "Конденсатор - устройство, служащие для накопления электрического заряда, а следовательно, и энергии электростатического поля. Конденсатор состоит из двух проводников (обкладок), разделенных диэлектриком."
   ]
  },
  {
   "cell_type": "markdown",
   "id": "ee798de7-fc76-4dc6-967a-b04882dde39d",
   "metadata": {},
   "source": [
    "Свободные заряды, возникающие на разных обкладках, равны по величине и\n",
    "противоположны по знаку. Поэтому емкость конденсатора – это физическая величина, равная отношению заряда на обкладках конденсатора, к разности потенциалов между его обкладками: $C = {Q \\over \\varphi{\\scriptscriptstyle 1} - \\varphi{\\scriptscriptstyle 2}}$"
   ]
  },
  {
   "cell_type": "markdown",
   "id": "50813543-a29c-4997-888d-bad733a74f74",
   "metadata": {},
   "source": [
    "### Покажите, что емкость конденсатора определяется его геометрическими размерами и свойствами диэлектрика. Вычислите емкость плоского, цилиндрического и сферического конденсаторов."
   ]
  },
  {
   "cell_type": "markdown",
   "id": "dd19d66f-34fd-4cc6-a39d-db0833d275e1",
   "metadata": {},
   "source": [
    "При выводе формул емкость различных конденсаторов наглядно видно, что емкость зависит от геометрических размеров и свойств диэлектрика."
   ]
  },
  {
   "cell_type": "markdown",
   "id": "dc5e5e80-9f9c-405d-bab1-476acfccc8be",
   "metadata": {},
   "source": [
    "**Сферический конденсатор**\n",
    "\n",
    "Электрическое поле в конденсаторах полностью сосредоточено между его электродами (наз. обкладками). Если известна конфигурация электродов и распределение напряженности поля $E(r)$ между ними, то емкость конденсатора можно рассчитать по формуле $C = {Q \\over \\varphi{\\scriptscriptstyle 1} - \\varphi{\\scriptscriptstyle 2}}$ (1), где $\\varphi{\\scriptscriptstyle 1} - \\varphi{\\scriptscriptstyle 2} = \\varDelta \\varphi$ - разность потенциалов между обкладками конденсатора: $\\varphi{\\scriptscriptstyle 1} - \\varphi{\\scriptscriptstyle 2} = \\int_{R{\\scriptscriptstyle 2}}^{R{\\scriptscriptstyle 1}}E(r)dr$ (2) \n",
    "\n",
    "В сферическом конденсаторе, состоящем из двух концентрических сфер радиусом $R{\\scriptscriptstyle 1}$  и $R{\\scriptscriptstyle 2}$ все поле сосредоточено в пространстве между сферами. Если на внутренней сфере находится заряд $Q$, то поле в пространстве между сферами $E(r) = k{Q\\over \\varepsilon r^2}$(3), где $\\varepsilon$ - диэлектрическая проницаемость среды между сферами, $r$ - расстояние от центра сферы до рассматриваемой точки поля ($R{\\scriptscriptstyle 1} \\leqslant r \\leqslant R{\\scriptscriptstyle 2}$), $k$ - размерный коэффициент, зависящий от выбора системы единиц (В СИ: $k = {1 \\over 4\\pi\\varepsilon{\\scriptscriptstyle 0}} = 9 * 10^9 {Н * м^2 \\over Кл^2}$\n",
    "\n",
    "Из (1), (2), (3) следует, что $C = {\\varepsilon R{\\scriptscriptstyle 1} R{\\scriptscriptstyle 2} \\over k(R{\\scriptscriptstyle 2} - R{\\scriptscriptstyle 1})}$"
   ]
  },
  {
   "cell_type": "markdown",
   "id": "95be012a-2306-46fe-8780-3fe4498015c1",
   "metadata": {},
   "source": [
    "**Цилиндрический конденсатор**\n",
    "\n",
    "$R{\\scriptscriptstyle 1}$- радиус внутреннего цилиндра, $R{\\scriptscriptstyle 2}$ - радиус внешнего цилиндра, $r$- радиус между обкладками, $l$- длина всего цилиндра\n",
    "\n",
    "Электростатическая теорема Гаусса для поверхности радиуса r : $\\overline{\\varPhi{\\scriptscriptstyle E}} = \\oint_{S} \\overline{E}d\\overline{s} = {\\sum_iq \\over \\varepsilon\\varepsilon{\\scriptscriptstyle 0}}$, отсюда $E(r) = {q \\over 2\\pi r l \\varepsilon\\varepsilon{\\scriptscriptstyle 0}}$\n",
    "\n",
    "Получаем: $\\varphi{\\scriptscriptstyle 1} - \\varphi{\\scriptscriptstyle 2} = \\int_{R{\\scriptscriptstyle 1}}^{R{\\scriptscriptstyle 2}}E(r)dr = {q \\over 2\\pi  l \\varepsilon\\varepsilon{\\scriptscriptstyle 0}} \\ln {R{\\scriptscriptstyle 2} \\over R{\\scriptscriptstyle 1}}$\n",
    "\n",
    "Подставляем в формулу $C = {q \\over \\varphi{\\scriptscriptstyle 1} - \\varphi{\\scriptscriptstyle 2}}$ и получаем: $C = {2\\pi  l \\varepsilon\\varepsilon{\\scriptscriptstyle 0} \\over \\ln {R{\\scriptscriptstyle 2} \\over R{\\scriptscriptstyle 1}}}$"
   ]
  },
  {
   "cell_type": "markdown",
   "id": "f1b5c642-48be-4450-aabf-0ceeaaebf028",
   "metadata": {},
   "source": [
    "**Плоский конденсатор**\n",
    "\n",
    "$\\varphi{\\scriptscriptstyle 1} - \\varphi{\\scriptscriptstyle 2} = \\int_{1}^{2}E{\\scriptscriptstyle l}dl$\n",
    "\n",
    "Напряженность поля: $E = {q \\over \\varepsilon\\varepsilon{\\scriptscriptstyle 0}S}$, где $q$ - заряд конденсатора, $\\varepsilon$ -диэлектрическая проницаемость среды между пластинами, $S$ - площадь пластины, $\\varepsilon{\\scriptscriptstyle 0}$  - электрическая постоянная.\n",
    "\n",
    "Выполняем интегрирование вдоль силовой линии, учитывая, что поле внутри плоского конденсатора однородное. В итоге получаем: $\\varphi{\\scriptscriptstyle 1} - \\varphi{\\scriptscriptstyle 2} = {q d\\over \\varepsilon\\varepsilon{\\scriptscriptstyle 0}S}$, где $d$ - зазор между обкладками. \n",
    "\n",
    "Подставляем в формулу $C = {q \\over \\varphi{\\scriptscriptstyle 1} - \\varphi{\\scriptscriptstyle 2}}$ и получаем: $C =  {\\varepsilon\\varepsilon{\\scriptscriptstyle 0}S\\over d}$"
   ]
  },
  {
   "cell_type": "markdown",
   "id": "0fb08e2a-f0e8-4f5f-a978-aaf4e52e6e04",
   "metadata": {},
   "source": [
    "### Покажите, как получить формулы (2) и (3) для расчета емкости батареи при последовательном и параллельном соединениях конденсаторов."
   ]
  },
  {
   "cell_type": "markdown",
   "id": "e5e8739b-4cc5-4947-b204-30e8f22a1b09",
   "metadata": {},
   "source": [
    "**Последовательное соединение:**\n",
    "\n",
    "При последовательно соединение конденсаторов их заряды одинаковы: $Q{\\scriptscriptstyle 1} = Q{\\scriptscriptstyle 2} = ... = Q{\\scriptscriptstyle n}$ , а разность потенциалов на зажимах батареи: $\\varDelta \\varphi = \\sum_{i=1}^{n}\\varDelta \\varphi {\\scriptscriptstyle i}$, где $\\varDelta \\varphi {\\scriptscriptstyle i} = {Q{\\scriptscriptstyle i} \\over C{\\scriptscriptstyle i}}$\n",
    "\n",
    "Тогда полная емкость батареи ${1 \\over C} = {1 \\over C{\\scriptscriptstyle 1}} + {1 \\over C{\\scriptscriptstyle 2}} + ... + {1 \\over C{\\scriptscriptstyle n}} = \\sum_{i=1}^{n}{1 \\over C{\\scriptscriptstyle i}}$"
   ]
  },
  {
   "cell_type": "markdown",
   "id": "ae4794ea-c106-477e-ba76-ccf66c3ae98f",
   "metadata": {},
   "source": [
    "**Параллельное соединение:**\n",
    "\n",
    "При параллельном соединение разность потенциалов на обкладках конденсаторов одинакова $\\varDelta \\varphi {\\scriptscriptstyle 1} = \\varDelta \\varphi {\\scriptscriptstyle 2} = ... =\\varDelta \\varphi {\\scriptscriptstyle n}$ , а заряды каждого из них определяется по формуле $Q = C{\\scriptscriptstyle i} \\varDelta \\varphi {\\scriptscriptstyle i}$\n",
    "\n",
    "Тогда полная емкость батареи $C = C{\\scriptscriptstyle 1} + C{\\scriptscriptstyle 2} + ... + C{\\scriptscriptstyle n} = \\sum_{i=1}^{n}C{\\scriptscriptstyle i}$"
   ]
  },
  {
   "cell_type": "markdown",
   "id": "e08e1a1e-cbc2-4126-9348-3055ce157b5b",
   "metadata": {},
   "source": [
    "### Как изменяется электроемкость при переходе от параллельного соединения конденсаторов к последовательному?"
   ]
  },
  {
   "cell_type": "markdown",
   "id": "16309854-b534-4cfa-b6b4-ded79aef34b9",
   "metadata": {},
   "source": [
    "При переходе от параллельного соединения конденсаторов к последовательному, электроёмкость системы уменьшается."
   ]
  },
  {
   "cell_type": "markdown",
   "id": "42572075-98ab-400f-8bc8-a06e1a039fcf",
   "metadata": {},
   "source": [
    "### Что называется баллистическим гальванометром? Запишите основное условие работы гальванометра в баллистическом режиме."
   ]
  },
  {
   "cell_type": "markdown",
   "id": "ca84b51c-5556-4197-9bf0-8ee5498613e0",
   "metadata": {
    "tags": []
   },
   "source": [
    "Баллистическим гальванометром называется чувствительный гальванометр\n",
    "магнитоэлектрической системы с повышенным моментом инерции\n",
    "подвижной системы, предназначенный для измерения малых количеств\n",
    "электричества при кратковременных импульсах тока."
   ]
  },
  {
   "cell_type": "markdown",
   "id": "8e345876-c137-459e-acdc-121f90e2dcc2",
   "metadata": {},
   "source": [
    "Основное условие работы гальванометра в баллистическом режиме — искусственно увеличенный момент инерции подвижной системы рамки баллистического гальванометра. Это достигается путём прикрепления к рамке гальванометра полого цилиндра или стрежня с целью получения достаточно большого периода свободных колебаний $T \\approx (10 \\div 20)c$. При этом условии кратковременный импульс тока длительность $\\tau$ успевает пройти через рамку гальванометра прежде, чем она отклонится от положения равновесия на заметный угол. "
   ]
  },
  {
   "cell_type": "markdown",
   "id": "87e7f47b-1561-44b0-a199-ddfe47579137",
   "metadata": {},
   "source": [
    "### Опишите критический, недоуспокоенный и переуспокоенный режимы работы гальванометра."
   ]
  },
  {
   "cell_type": "markdown",
   "id": "ee373f05-b385-4a9d-a362-7824bc0d2fd2",
   "metadata": {},
   "source": [
    "Подвижная система гальванометра после баллистического отброса возвращается в положение равновесия, совершая свободные крутильные колебания около этого положения. Для быстрого успокоения подвижной системы прибора рамка гальванометра замыкается на некоторое сопротивление $R$. При колебаниях рамки в магнитном поле в ней возникает э.д.с. индукции и индукционный ток, который в соответствии с правилом Ленца противодействует движению рамки и вызывает электромагнитное торможение подвижной системы. Величина тормозящего момента зависит от силы индукционного тока в рамке и сопротивления цепи. Сопротивление $R$ подбирается так, чтобы движение рамки было апериодическим, и при этом рамка возвращалась в нулевое положение за минимальное время. Такой режим колебаний рамки называется критически успокоенным, а соответствующее ему сопротивление - внешним критическим сопротивлением гальванометра $R{\\scriptstyle кр}$."
   ]
  },
  {
   "cell_type": "markdown",
   "id": "a68df593-19ed-4a5b-9f0c-88a50094bc01",
   "metadata": {},
   "source": [
    "Если сопротивление $R > R{\\scriptstyle кр}$, индукционные токи и торможение меньше, колебания рамки приобретают периодический характер, такой режим называется недоуспокоенным."
   ]
  },
  {
   "cell_type": "markdown",
   "id": "37f4452c-a0a8-41c7-be4a-14728433871f",
   "metadata": {},
   "source": [
    "Если сопротивление $R < R{\\scriptstyle кр}$, индукционные токи и торможение больше, рамка, совершая апериодическое движение, возвращается к положению равновесия значительно медленнее, чем при $R = R{\\scriptstyle кр}$. Такой режим называется переуспокоенный."
   ]
  },
  {
   "cell_type": "markdown",
   "id": "01740af7-9131-4457-9872-c72e5b8ac9ab",
   "metadata": {
    "tags": []
   },
   "source": [
    "### Объясните, как в работе определяются баллистическая постоянная гальванометра и емкость неизвестных конденсаторов."
   ]
  },
  {
   "cell_type": "markdown",
   "id": "7d6f0bc6-a580-469b-aed9-1b8ba1ed04d5",
   "metadata": {},
   "source": [
    "Баллистическая постоянная гальванометра ($K{\\scriptstyle б}$) определяется экспериментально и измеряется в кулонах на деление шкалы (*Кл/дел*).    "
   ]
  },
  {
   "cell_type": "markdown",
   "id": "37ebf624-57df-4e91-b941-bc4c656a1298",
   "metadata": {},
   "source": [
    "$Q = K{\\scriptscriptstyle б}\\cdot m$, где $m$ - величина отброса светового зайчика по шкале гальвонометра."
   ]
  },
  {
   "cell_type": "markdown",
   "id": "fdcdf73c-8a2a-4a40-b0cd-8701d29f209a",
   "metadata": {},
   "source": [
    "Емкость неизвестных конденсаторов: $C = {Q \\over U} = K{\\scriptstyle б} {<m> \\over U}$"
   ]
  },
  {
   "cell_type": "markdown",
   "id": "54a8b0a3-4596-4311-a51b-c7bf02dadadf",
   "metadata": {
    "slideshow": {
     "slide_type": "fragment"
    },
    "tags": []
   },
   "source": [
    "## Предпроцессинг данных и подключение библиотек."
   ]
  },
  {
   "cell_type": "markdown",
   "id": "8ad9564b-9e60-42ba-b855-e4e547d9ab16",
   "metadata": {
    "tags": []
   },
   "source": [
    "Код подключает необходимые библиотеки и проводит обработку данных из таблиц с данными, полученными при эксперименте."
   ]
  },
  {
   "cell_type": "code",
   "execution_count": 300,
   "id": "d65114cf-dc54-4e6b-8fe8-fa167037e3f6",
   "metadata": {
    "tags": []
   },
   "outputs": [],
   "source": [
    "from csv import *\n",
    "import pandas as pan\n",
    "import matplotlib.pyplot as plt\n",
    "import numpy as np\n",
    "\n",
    "def file_read(path):\n",
    "    with open(path, 'r') as file:\n",
    "        data = file.readlines()\n",
    "    data[0] = data[0][3:]\n",
    "    #print(data)\n",
    "    #data = data[1:]\n",
    "    for i in range(len(data)):\n",
    "        data[i] = data[i].replace(',','.')\n",
    "        data[i] = data[i].split(';')\n",
    "        for j in range(len(data[i])):\n",
    "            data[i][j] = float(data[i][j])\n",
    "    #print(data)\n",
    "    return data"
   ]
  },
  {
   "cell_type": "markdown",
   "id": "5634054a-ae1b-4263-ad73-069685d70c03",
   "metadata": {},
   "source": [
    "## Задание 1. Определение баллистической постоянной гальванометра."
   ]
  },
  {
   "cell_type": "markdown",
   "id": "6cd802de-7113-4900-857f-9ecbb581cef1",
   "metadata": {},
   "source": [
    "Считывание данных из файла:"
   ]
  },
  {
   "cell_type": "code",
   "execution_count": 329,
   "id": "acf6f449-bc27-4a6b-ba66-850bed51da32",
   "metadata": {
    "tags": []
   },
   "outputs": [
    {
     "name": "stdout",
     "output_type": "stream",
     "text": [
      "[70.0, 68.0, 67.0, 68.0, 69.0]\n"
     ]
    }
   ],
   "source": [
    "data = file_read(\"21_1.csv\")\n",
    "m = data[0]\n",
    "print(m)"
   ]
  },
  {
   "cell_type": "markdown",
   "id": "d893f6b2-4ffc-4814-af63-6978fd37e1c8",
   "metadata": {},
   "source": [
    "Вычисление среднего балистического отброса $<m>$, баллистической постоянной $K_б$ и ошибки при определении баллистической постоянной $\\Delta K_б$:"
   ]
  },
  {
   "cell_type": "code",
   "execution_count": 358,
   "id": "d618ca10-21c0-4000-ba8d-bf2b29fa3f77",
   "metadata": {
    "tags": []
   },
   "outputs": [
    {
     "name": "stdout",
     "output_type": "stream",
     "text": [
      "<m> = 68.4\n",
      "K_б = 9.65e-10\n",
      "dK_б = 3.17e-11\n"
     ]
    }
   ],
   "source": [
    "m_aver = sum(m)/len(m)\n",
    "print(\"<m> =\",m_aver)\n",
    "C_0 = 0.022/(10**6) #Ф\n",
    "U = 3 #В\n",
    "K_b = C_0*U/m_aver\n",
    "print(\"K_б =\", round(K_b,12))\n",
    "\n",
    "d_m = 0\n",
    "for i in range(len(m)):\n",
    "    d_m += abs(m[i]-m_aver)\n",
    "d_m /= len(m)\n",
    "\n",
    "d_C_0 = 0.01 * C_0\n",
    "d_U = 0.01 * U\n",
    "\n",
    "d_K_b = K_b*(d_C_0/C_0 + d_U/U + d_m/m_aver)\n",
    "print(\"dK_б =\", round(d_K_b,13))"
   ]
  },
  {
   "cell_type": "markdown",
   "id": "b2a43f2d-e2d0-47de-ac0f-16c87a4edd65",
   "metadata": {},
   "source": [
    "Получаем: $$<m> = 68.4 $$ $$K_б = 9.65\\cdot10^{-10} $$ $$\\Delta K_б = 3.17\\cdot10^{-11} $$"
   ]
  },
  {
   "cell_type": "markdown",
   "id": "9db285aa-b68f-4ece-88ac-053e8d176e0a",
   "metadata": {},
   "source": [
    "## Задание 2. Наблюдение критического, недоуспокоенного и переуспокоенного режимов колебаний подвижной системы гальванометра."
   ]
  },
  {
   "cell_type": "markdown",
   "id": "7a7e3c35-6f9a-4615-84dd-95c54a508b79",
   "metadata": {},
   "source": [
    "Считывание данных из файла и подсчёт $<t_{усп}>$:"
   ]
  },
  {
   "cell_type": "code",
   "execution_count": 386,
   "id": "ccec37e2-49b2-4d8f-a2b4-f6df15d9d27a",
   "metadata": {
    "tags": []
   },
   "outputs": [
    {
     "name": "stdout",
     "output_type": "stream",
     "text": [
      "t_Rk = [2.68, 1.83, 1.7, 2.56, 2.15] <t_Rk> = 2.184 \n",
      "t_R1 = [4.68, 3.79, 3.99, 4.12, 4.39] <t_R1> = 4.194 \n",
      "t_R2 = [6.56, 6.22, 6.75, 7.74, 7.47] <t_R2> = 6.948\n"
     ]
    }
   ],
   "source": [
    "data = file_read(\"21_2.csv\")\n",
    "\n",
    "t_Rk = data[0]\n",
    "t_Rk_aver = sum(t_Rk)/len(t_Rk)\n",
    "t_R1 = data[1]\n",
    "t_R1_aver = sum(t_R1)/len(t_R1)\n",
    "t_R2 = data[2]\n",
    "t_R2_aver = sum(t_R2)/len(t_R2)\n",
    "\n",
    "print('t_Rk =',t_Rk, '<t_Rk> =', t_Rk_aver ,'\\nt_R1 =', t_R1, '<t_R1> =', t_R1_aver, '\\nt_R2 =', t_R2, '<t_R2> =', t_R2_aver)"
   ]
  },
  {
   "cell_type": "markdown",
   "id": "dfe243ce-cb83-430b-a625-13649b73d3fb",
   "metadata": {},
   "source": [
    "Вносим данные в таблицу и примерные графики:"
   ]
  },
  {
   "cell_type": "code",
   "execution_count": 424,
   "id": "d5307972-ce33-478e-a99f-b4269610b567",
   "metadata": {
    "tags": []
   },
   "outputs": [
    {
     "data": {
      "image/png": "[encoded data removed]",
      "text/plain": [
       "<Figure size 640x480 with 3 Axes>"
      ]
     },
     "metadata": {},
     "output_type": "display_data"
    },
    {
     "data": {
      "text/html": [
       "<div>\n",
       "<style scoped>\n",
       "    .dataframe tbody tr th:only-of-type {\n",
       "        vertical-align: middle;\n",
       "    }\n",
       "\n",
       "    .dataframe tbody tr th {\n",
       "        vertical-align: top;\n",
       "    }\n",
       "\n",
       "    .dataframe thead th {\n",
       "        text-align: right;\n",
       "    }\n",
       "</style>\n",
       "<table border=\"1\" class=\"dataframe\">\n",
       "  <thead>\n",
       "    <tr style=\"text-align: right;\">\n",
       "      <th></th>\n",
       "      <th>Режим</th>\n",
       "      <th>R</th>\n",
       "      <th>&lt;t_усп&gt;, с</th>\n",
       "      <th>Характер движения подвижной системы</th>\n",
       "    </tr>\n",
       "  </thead>\n",
       "  <tbody>\n",
       "    <tr>\n",
       "      <th>0</th>\n",
       "      <td>Критический</td>\n",
       "      <td>R = R_кр</td>\n",
       "      <td>2.184</td>\n",
       "      <td>График 1</td>\n",
       "    </tr>\n",
       "    <tr>\n",
       "      <th>1</th>\n",
       "      <td>Переуспокоенный</td>\n",
       "      <td>R_1 &lt; R_кр</td>\n",
       "      <td>4.194</td>\n",
       "      <td>График 2</td>\n",
       "    </tr>\n",
       "    <tr>\n",
       "      <th>2</th>\n",
       "      <td>Недоуспокоенный</td>\n",
       "      <td>R_2 &gt; R_кр</td>\n",
       "      <td>6.948</td>\n",
       "      <td>Граафик 3</td>\n",
       "    </tr>\n",
       "  </tbody>\n",
       "</table>\n",
       "</div>"
      ],
      "text/plain": [
       "             Режим           R  <t_усп>, с Характер движения подвижной системы\n",
       "0      Критический    R = R_кр       2.184                            График 1\n",
       "1  Переуспокоенный  R_1 < R_кр       4.194                            График 2\n",
       "2  Недоуспокоенный  R_2 > R_кр       6.948                           Граафик 3"
      ]
     },
     "execution_count": 424,
     "metadata": {},
     "output_type": "execute_result"
    }
   ],
   "source": [
    "lines = {'Режим':['Критический', 'Переуспокоенный', 'Недоуспокоенный'],\\\n",
    "         'R':['R = R_кр', 'R_1 < R_кр', 'R_2 > R_кр'],\\\n",
    "         '<t_усп>, с': [t_Rk_aver, t_R1_aver, t_R2_aver],\\\n",
    "         'Характер движения подвижной системы': ['График 1','График 2','Граафик 3']}\n",
    "table = pan.DataFrame(lines)\n",
    "\n",
    "def f3(t):\n",
    "    return np.exp(-0.75*t) * np.cos(np.pi*t)\n",
    "\n",
    "def f2(t):\n",
    "    return np.exp(-t)\n",
    "\n",
    "def f1(t):\n",
    "    return np.exp(-2*t)\n",
    "\n",
    "t1 = np.arange(0, 7.0, 0.1)\n",
    "\n",
    "plt.figure()\n",
    "plt.subplot(331)\n",
    "plt.xlabel('t')\n",
    "plt.ylabel('m')\n",
    "plt.axis((0, 4, -1, 1))\n",
    "plt.title ('График 1')\n",
    "plt.grid(True)\n",
    "plt.plot(t1, f1(t1), 'r')\n",
    "\n",
    "plt.subplot(332)\n",
    "plt.xlabel('t')\n",
    "plt.ylabel('m')\n",
    "plt.axis((0, 4, -1, 1))\n",
    "plt.title ('График 2')\n",
    "plt.grid(True)\n",
    "plt.plot(t1, f2(t1), 'r')\n",
    "\n",
    "plt.subplot(333)\n",
    "plt.xlabel('t')\n",
    "plt.ylabel('m')\n",
    "plt.axis((0, 6, -1, 1))\n",
    "plt.title ('График 3')\n",
    "plt.grid(True)\n",
    "plt.plot(t1, np.exp(-0.75*t1),'k--', t1, -np.exp(-0.75*t1), 'k--', t1, f3(t1), 'r')\n",
    "plt.show()\n",
    "table"
   ]
  },
  {
   "cell_type": "markdown",
   "id": "dec53444-4fb9-417e-ad63-4b8b2a5aa151",
   "metadata": {},
   "source": [
    "При критическом сопротивлении (критический режим) зайчик гальванометра не колеблется и успокаивается быстрее всего. При сопротивлении ниже критического (переуспокоенный режим) колебаний также нет, но время успокоения больше, чем при критическом сопротивлении. При сопротивлении выше критического (недоуспокоенный режим) зайчик гальванометра колеблется, а время успокоения дольше, чем у остальных режимов."
   ]
  },
  {
   "cell_type": "markdown",
   "id": "b62f8909-5dbc-4c9c-bb70-5f7758ceaf93",
   "metadata": {},
   "source": [
    "## Задание 3. Измерение емкости неизвестных конденсаторов."
   ]
  },
  {
   "cell_type": "markdown",
   "id": "f334aeff-e218-4b91-af0a-1612458213b4",
   "metadata": {},
   "source": [
    "Считыввание данных из файла:"
   ]
  },
  {
   "cell_type": "code",
   "execution_count": 427,
   "id": "eda7fd68-a430-4b12-8685-7e233b3c85ba",
   "metadata": {
    "tags": []
   },
   "outputs": [],
   "source": [
    "data = file_read(\"21_3.csv\")"
   ]
  },
  {
   "cell_type": "markdown",
   "id": "5ccd2ee8-cafa-4e47-be09-67e6f04ebdff",
   "metadata": {},
   "source": [
    "Вычисление ёмкости конденсаторов $C_1$, $C_2$ и погрешности $\\Delta C_1$, $\\Delta C_2$:"
   ]
  },
  {
   "cell_type": "code",
   "execution_count": 439,
   "id": "451b515c-a26f-4b79-a525-0339ec0457ff",
   "metadata": {
    "tags": []
   },
   "outputs": [
    {
     "name": "stdout",
     "output_type": "stream",
     "text": [
      "C_1 = 1.99e-08 \n",
      "C_2 = 8.43e-09\n",
      "dC_1 = 1.29e-09 \n",
      "dC_2 = 5.67e-10\n"
     ]
    }
   ],
   "source": [
    "C = []\n",
    "_m_aver = [0,0]\n",
    "for i in range(2):\n",
    "    for j in range(len(data[i])):\n",
    "        _m_aver[i] += data[i][j]\n",
    "    _m_aver[i] /= len(data[i])\n",
    "    C.append(K_b*_m_aver[i]/U)\n",
    "print('C_1 =', round(C[0], 10), '\\nC_2 =', round(C[1], 11))\n",
    "\n",
    "d_C = []\n",
    "for i in range(2):\n",
    "    d_m = 0\n",
    "    for j in range(len(data[i])):\n",
    "        d_m += abs(data[i][j]-_m_aver[i])\n",
    "    d_m /= len(m)\n",
    "    d_C.append(C[i]*(d_K_b/K_b + d_U/U + d_m/_m_aver[i]))\n",
    "print('dC_1 =', round(d_C[0],11), '\\ndC_2 =', round(d_C[1],12))"
   ]
  },
  {
   "cell_type": "markdown",
   "id": "6ea1ea61-fb2a-4d38-8501-4bff8133f268",
   "metadata": {},
   "source": [
    "Получаем: $$C_1 = 1.99\\cdot10^{-8} $$ $$C_2 = 8,43\\cdot10^{-9} $$ $$\\Delta C_1 = 1.29\\cdot10^{-9}$$ $$\\Delta C_2 = 5.67\\cdot10^{-10} $$ "
   ]
  },
  {
   "cell_type": "markdown",
   "id": "6875d742-9a9c-4b05-bc75-63e25c4af48c",
   "metadata": {},
   "source": [
    "## Задание 4. Проверка законов параллельного и последовательного соединения конденсаторов. "
   ]
  },
  {
   "cell_type": "markdown",
   "id": "e5f32104-5529-44cd-a965-b88c0e251c17",
   "metadata": {},
   "source": [
    "Считывание данных из файла:"
   ]
  },
  {
   "cell_type": "code",
   "execution_count": 448,
   "id": "c8cec828-95f9-4e6a-b906-9a08131ca0e6",
   "metadata": {
    "tags": []
   },
   "outputs": [],
   "source": [
    "data = file_read(\"21_4.csv\")"
   ]
  },
  {
   "cell_type": "markdown",
   "id": "5b01658e-ecd1-411b-82bd-8cbc3c704acc",
   "metadata": {},
   "source": [
    "Вычисляем экспериментальные значения ёмкости конденсаторов при последовательном подключении $C'_{эксп}$ и при параллельном $C''_{эксп}$:"
   ]
  },
  {
   "cell_type": "code",
   "execution_count": 463,
   "id": "30171d68-6232-42c6-9fd1-1f9cad20adf4",
   "metadata": {
    "tags": []
   },
   "outputs": [
    {
     "name": "stdout",
     "output_type": "stream",
     "text": [
      "C'_эксп = 6.05e-09 \n",
      "C''_эксп = 2.82e-08\n"
     ]
    }
   ],
   "source": [
    "C_e = []\n",
    "U_4 = [3,1.5]\n",
    "_m_aver = [0,0]\n",
    "for i in range(2):\n",
    "    for j in range(len(data[i])):\n",
    "        _m_aver[i] += data[i][j]\n",
    "    _m_aver[i] /= len(data[i])\n",
    "    C_e.append(K_b*_m_aver[i]/U_4[i])\n",
    "print('C\\'_эксп =', round(C_e[0],11), '\\nC\\'\\'_эксп =', round(C_e[1],10))"
   ]
  },
  {
   "cell_type": "markdown",
   "id": "22bbf620-bba1-4ba2-a359-c5fd1d32b5b8",
   "metadata": {},
   "source": [
    "Вычисляем теоретические значения ёмкости конденсаторов при последовательном подключении $C'_{теор}$ и при параллельном $C''_{теор}$:"
   ]
  },
  {
   "cell_type": "code",
   "execution_count": 489,
   "id": "00fdeea6-d594-4dfc-86e1-ef3dded90782",
   "metadata": {
    "tags": []
   },
   "outputs": [
    {
     "name": "stdout",
     "output_type": "stream",
     "text": [
      "C'_теор = 5.92e-09 \n",
      "C''_теор = 2.83e-08\n"
     ]
    }
   ],
   "source": [
    "C_t = [1/C[0]+1/C[1],C[0]+C[1]]\n",
    "C_t[0] = C_t[0]/C_t[0]/C_t[0]\n",
    "print('C\\'_теор =', round(C_t[0],11), '\\nC\\'\\'_теор =', round(C_t[1],10))"
   ]
  },
  {
   "cell_type": "markdown",
   "id": "a79a3a79-dc6a-4b24-abb3-90ac2cc9a86f",
   "metadata": {},
   "source": [
    "Подсчитаем разницу теоретических и экспериментальных значений:"
   ]
  },
  {
   "cell_type": "code",
   "execution_count": 513,
   "id": "59e13805-85a5-4e69-9418-41b3cd9cba02",
   "metadata": {
    "tags": []
   },
   "outputs": [
    {
     "name": "stdout",
     "output_type": "stream",
     "text": [
      "dC' = 1.3e-10; dC'/C'_теор 2.176 %\n",
      "dC'' = 1e-10; dC''/C''_теор 0.455 %\n"
     ]
    }
   ],
   "source": [
    "print('dC\\' =', round(abs(C_e[0]-C_t[0]), 11), '\\b; dC\\'/C\\'_теор', round(abs(C_e[0]-C_t[0])/C_t[0]*100, 3), '%')\n",
    "print('dC\\'\\' =', round(abs(C_e[1]-C_t[1]), 10), '\\b; dC\\'\\'/C\\'\\'_теор', round(abs(C_e[1]-C_t[1])/C_t[1]*100, 3), '%')"
   ]
  },
  {
   "cell_type": "markdown",
   "id": "13a50794-ebf1-45e7-8223-fa79df142a59",
   "metadata": {
    "tags": []
   },
   "source": [
    "Значения полученные при эксперементе приимерно равны теоретическим значениям. Эксперементальны значения отличаются от теоретических не более чем на 3 процента. $$C'_{эксп} = 6,05\\cdot10^{-9}\\ Ф;\\ C'_{теор} = 5,92\\cdot10^{-9}\\ Ф;\\ \\frac{|C'_{эксп}-C'_{теор}|}{C'_{теор}} = 2.176\\% $$ $$C''_{эксп} = 2,82\\cdot10^{-8}\\ Ф;\\ C''_{теор} = 2,83\\cdot10^{-8}\\ Ф;\\ \\frac{|C''_{эксп}-C''_{теор}|}{C''_{теор}} = 0,455\\% $$"
   ]
  },
  {
   "cell_type": "markdown",
   "id": "c75cec0f-f7b7-45ca-a25e-10a290289d78",
   "metadata": {},
   "source": [
    "## Задание 5. Показать, что для наибольшей величины со значением емкости $C=C_1+C_2$, гальванометр работает в баллистическом режиме."
   ]
  },
  {
   "cell_type": "markdown",
   "id": "93297350-bec3-4e34-9f50-09f84751d5d9",
   "metadata": {},
   "source": [
    "Вычисляем время релаксации $\\tau$:"
   ]
  },
  {
   "cell_type": "code",
   "execution_count": 530,
   "id": "aaa528b7-5742-4a07-90c2-ef2fcaaa3c8f",
   "metadata": {
    "tags": []
   },
   "outputs": [
    {
     "name": "stdout",
     "output_type": "stream",
     "text": [
      "t = 0.000282\n"
     ]
    }
   ],
   "source": [
    "R_k = 10000\n",
    "tau = R_k*C_e[1]\n",
    "print('t =',round(tau,6))"
   ]
  },
  {
   "cell_type": "markdown",
   "id": "04a5324e-8163-4d75-a78b-d3e2a06b37eb",
   "metadata": {},
   "source": [
    "$\\tau = 2,82\\cdot10^{-4}\\ сек$ , что во много раз меньше, чем $T = 1,7\\ сек$, что подтверждает правильность соотношения $\\tau<<T$."
   ]
  }
 ],
 "metadata": {
  "kernelspec": {
   "display_name": "Python 3 (ipykernel)",
   "language": "python",
   "name": "python3"
  },
  "language_info": {
   "codemirror_mode": {
    "name": "ipython",
    "version": 3
   },
   "file_extension": ".py",
   "mimetype": "text/x-python",
   "name": "python",
   "nbconvert_exporter": "python",
   "pygments_lexer": "ipython3",
   "version": "3.11.7"
  }
 },
 "nbformat": 4,
 "nbformat_minor": 5
}
